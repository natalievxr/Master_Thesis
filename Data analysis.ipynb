{
 "cells": [
  {
   "cell_type": "markdown",
   "id": "d7435a12-4384-4e63-bb93-3619f8f20c0f",
   "metadata": {},
   "source": [
    "# Data Analysis \n"
   ]
  },
  {
   "cell_type": "code",
   "execution_count": 109,
   "id": "3f52bb86-aa27-496f-9a8d-e3249c24ddfe",
   "metadata": {},
   "outputs": [],
   "source": [
    "import pandas as pd"
   ]
  },
  {
   "cell_type": "code",
   "execution_count": 110,
   "id": "15c958fe-066c-4923-aa8c-e74aa7eb05c3",
   "metadata": {},
   "outputs": [],
   "source": [
    "r_df = pd.read_csv(\"R data.csv\") "
   ]
  },
  {
   "cell_type": "code",
   "execution_count": 111,
   "id": "abdb080e-9b2c-4185-855a-af9508edcca5",
   "metadata": {},
   "outputs": [],
   "source": [
    "r_df = r_df.drop(columns=['Q1', 'Q2_1', 'Q3'])\n",
    "r_q4 = r_df.drop(columns=['Q5_1', 'Q5_2', 'Q5_3', 'Q5_4', 'Q5_5', 'Q6_1', 'Q6_2', 'Q6_3', 'Q6_4', 'Q7_1', 'Q7_2', 'Q7_3', 'Q8_1', 'Q8_2', 'Q8_3', 'Q8_4', 'Q8_5', 'Q8_6', 'Q8_7', 'Q8_8', 'Q8_9', 'Q8_10'])\n",
    "r_q5 = r_df.drop(columns=['Q4_1', 'Q4_2', 'Q4_3', 'Q6_1', 'Q6_2', 'Q6_3', 'Q6_4', 'Q7_1', 'Q7_2', 'Q7_3', 'Q8_1', 'Q8_2', 'Q8_3', 'Q8_4', 'Q8_5', 'Q8_6', 'Q8_7', 'Q8_8', 'Q8_9', 'Q8_10'])\n",
    "r_q6 = r_df.drop(columns=['Q5_1', 'Q5_2', 'Q5_3', 'Q5_4', 'Q5_5', 'Q4_1', 'Q4_2', 'Q4_3', 'Q7_1', 'Q7_2', 'Q7_3', 'Q8_1', 'Q8_2', 'Q8_3', 'Q8_4', 'Q8_5', 'Q8_6', 'Q8_7', 'Q8_8', 'Q8_9', 'Q8_10'])\n",
    "r_q7 = r_df.drop(columns=['Q5_1', 'Q5_2', 'Q5_3', 'Q5_4', 'Q5_5', 'Q6_1', 'Q6_2', 'Q6_3', 'Q6_4', 'Q4_1', 'Q4_2', 'Q4_3', 'Q8_1', 'Q8_2', 'Q8_3', 'Q8_4', 'Q8_5', 'Q8_6', 'Q8_7', 'Q8_8', 'Q8_9', 'Q8_10'])\n",
    "r_q8 = r_df.drop(columns=['Q5_1', 'Q5_2', 'Q5_3', 'Q5_4', 'Q5_5', 'Q6_1', 'Q6_2', 'Q6_3', 'Q6_4', 'Q7_1', 'Q7_2', 'Q7_3', 'Q4_1', 'Q4_2', 'Q4_3'])"
   ]
  },
  {
   "cell_type": "code",
   "execution_count": 112,
   "id": "12153e9c-412f-4054-88c6-51c038c1c949",
   "metadata": {},
   "outputs": [],
   "source": [
    "s_df = pd.read_csv(\"s data.csv\") "
   ]
  },
  {
   "cell_type": "code",
   "execution_count": 113,
   "id": "74f0395d-1c53-4f7b-ab14-52f7fff90dc4",
   "metadata": {},
   "outputs": [],
   "source": [
    "s_df = s_df.drop(columns=['Q1', 'Q2_1', 'Q3'])\n",
    "s_q4 = s_df.drop(columns=['Q5_1', 'Q5_2', 'Q5_3', 'Q5_4', 'Q5_5', 'Q6_1', 'Q6_2', 'Q6_3', 'Q6_4', 'Q7_1', 'Q7_2', 'Q7_3', 'Q8_1', 'Q8_2', 'Q8_3', 'Q8_4', 'Q8_5', 'Q8_6', 'Q8_7', 'Q8_8'])\n",
    "s_q5 = s_df.drop(columns=['Q4_1', 'Q4_2', 'Q4_3', 'Q6_1', 'Q6_2', 'Q6_3', 'Q6_4', 'Q7_1', 'Q7_2', 'Q7_3', 'Q8_1', 'Q8_2', 'Q8_3', 'Q8_4', 'Q8_5', 'Q8_6', 'Q8_7', 'Q8_8'])\n",
    "s_q6 = s_df.drop(columns=['Q5_1', 'Q5_2', 'Q5_3', 'Q5_4', 'Q5_5', 'Q4_1', 'Q4_2', 'Q4_3', 'Q7_1', 'Q7_2', 'Q7_3', 'Q8_1', 'Q8_2', 'Q8_3', 'Q8_4', 'Q8_5', 'Q8_6', 'Q8_7', 'Q8_8'])\n",
    "s_q7 = s_df.drop(columns=['Q5_1', 'Q5_2', 'Q5_3', 'Q5_4', 'Q5_5', 'Q6_1', 'Q6_2', 'Q6_3', 'Q6_4', 'Q4_1', 'Q4_2', 'Q4_3', 'Q8_1', 'Q8_2', 'Q8_3', 'Q8_4', 'Q8_5', 'Q8_6', 'Q8_7', 'Q8_8'])\n",
    "s_q8 = s_df.drop(columns=['Q5_1', 'Q5_2', 'Q5_3', 'Q5_4', 'Q5_5', 'Q6_1', 'Q6_2', 'Q6_3', 'Q6_4', 'Q7_1', 'Q7_2', 'Q7_3', 'Q4_1', 'Q4_2', 'Q4_3'])"
   ]
  },
  {
   "cell_type": "code",
   "execution_count": 114,
   "id": "e5c04bfe-c464-4c02-960b-5203dabe82b9",
   "metadata": {},
   "outputs": [],
   "source": [
    "u_df = pd.read_csv(\"u data.csv\") "
   ]
  },
  {
   "cell_type": "code",
   "execution_count": 115,
   "id": "bb4e917a-8a56-4bb7-8038-496e944eac62",
   "metadata": {},
   "outputs": [],
   "source": [
    "u_df = u_df.drop(columns=['Q1', 'Q2_1', 'Q3'])\n",
    "u_q4 = u_df.drop(columns=['Q5_1', 'Q5_2', 'Q5_3', 'Q5_4', 'Q5_5', 'Q6_1', 'Q6_2', 'Q6_3', 'Q6_4', 'Q7_1', 'Q7_2', 'Q7_3', 'Q8_1', 'Q8_2', 'Q8_3', 'Q8_4', 'Q8_5', 'Q8_6', 'Q8_7', 'Q8_8'])\n",
    "u_q5 = u_df.drop(columns=['Q4_1', 'Q4_2', 'Q4_3', 'Q6_1', 'Q6_2', 'Q6_3', 'Q6_4', 'Q7_1', 'Q7_2', 'Q7_3', 'Q8_1', 'Q8_2', 'Q8_3', 'Q8_4', 'Q8_5', 'Q8_6', 'Q8_7', 'Q8_8'])\n",
    "u_q6 = u_df.drop(columns=['Q5_1', 'Q5_2', 'Q5_3', 'Q5_4', 'Q5_5', 'Q4_1', 'Q4_2', 'Q4_3', 'Q7_1', 'Q7_2', 'Q7_3', 'Q8_1', 'Q8_2', 'Q8_3', 'Q8_4', 'Q8_5', 'Q8_6', 'Q8_7', 'Q8_8'])\n",
    "u_q7 = u_df.drop(columns=['Q5_1', 'Q5_2', 'Q5_3', 'Q5_4', 'Q5_5', 'Q6_1', 'Q6_2', 'Q6_3', 'Q6_4', 'Q4_1', 'Q4_2', 'Q4_3', 'Q8_1', 'Q8_2', 'Q8_3', 'Q8_4', 'Q8_5', 'Q8_6', 'Q8_7', 'Q8_8'])\n",
    "u_q8 = u_df.drop(columns=['Q5_1', 'Q5_2', 'Q5_3', 'Q5_4', 'Q5_5', 'Q6_1', 'Q6_2', 'Q6_3', 'Q6_4', 'Q7_1', 'Q7_2', 'Q7_3', 'Q4_1', 'Q4_2', 'Q4_3'])"
   ]
  },
  {
   "cell_type": "markdown",
   "id": "afa81400-8af4-4252-871a-197da503190b",
   "metadata": {},
   "source": [
    "### Cronbach's Alpha"
   ]
  },
  {
   "cell_type": "code",
   "execution_count": 117,
   "id": "91dbdf0b-30ed-4fa8-87ec-38bc9b4b3fd4",
   "metadata": {},
   "outputs": [
    {
     "name": "stdout",
     "output_type": "stream",
     "text": [
      "r_Q4 Cronbach's Alpha: 0.4012237762237761\n",
      "s_Q4 Cronbach's Alpha: -0.421875\n",
      "u_Q4 Cronbach's Alpha: 0.8918338108882522\n"
     ]
    }
   ],
   "source": [
    "import pingouin as pg\n",
    "\n",
    "# Calculate Cronbach's Alpha\n",
    "alpha, confidence_interval = pg.cronbach_alpha(data=r_q4)\n",
    "\n",
    "# Display the results\n",
    "print(f\"r_Q4 Cronbach's Alpha: {alpha}\")\n",
    "\n",
    "alpha, confidence_interval = pg.cronbach_alpha(data=s_q4)\n",
    "print(f\"s_Q4 Cronbach's Alpha: {alpha}\")\n",
    "\n",
    "alpha, confidence_interval = pg.cronbach_alpha(data=u_q4)\n",
    "print(f\"u_Q4 Cronbach's Alpha: {alpha}\")"
   ]
  },
  {
   "cell_type": "code",
   "execution_count": 118,
   "id": "f2db5f24-dd59-41de-8ac9-46882686b22c",
   "metadata": {},
   "outputs": [
    {
     "name": "stdout",
     "output_type": "stream",
     "text": [
      "r_Q5 Cronbach's Alpha: 0.8225974930362118\n",
      "s_Q5 Cronbach's Alpha: 0.7750153468385513\n",
      "u_Q5 Cronbach's Alpha: 0.7610544217687075\n"
     ]
    }
   ],
   "source": [
    "alpha, confidence_interval = pg.cronbach_alpha(data=r_q5)\n",
    "print(f\"r_Q5 Cronbach's Alpha: {alpha}\")\n",
    "\n",
    "alpha, confidence_interval = pg.cronbach_alpha(data=s_q5)\n",
    "print(f\"s_Q5 Cronbach's Alpha: {alpha}\")\n",
    "\n",
    "alpha, confidence_interval = pg.cronbach_alpha(data=u_q5)\n",
    "print(f\"u_Q5 Cronbach's Alpha: {alpha}\")"
   ]
  },
  {
   "cell_type": "code",
   "execution_count": 119,
   "id": "fbda120f-11e5-4028-b286-4d4c1f55ddcb",
   "metadata": {},
   "outputs": [
    {
     "name": "stdout",
     "output_type": "stream",
     "text": [
      "r_Q6 Cronbach's Alpha: 0.742056443655023\n",
      "s_Q6 Cronbach's Alpha: 0.45833333333333315\n",
      "u_Q6 Cronbach's Alpha: 0.653651482284888\n"
     ]
    }
   ],
   "source": [
    "alpha, confidence_interval = pg.cronbach_alpha(data=r_q6)\n",
    "print(f\"r_Q6 Cronbach's Alpha: {alpha}\")\n",
    "\n",
    "alpha, confidence_interval = pg.cronbach_alpha(data=s_q6)\n",
    "print(f\"s_Q6 Cronbach's Alpha: {alpha}\")\n",
    "\n",
    "alpha, confidence_interval = pg.cronbach_alpha(data=u_q6)\n",
    "print(f\"u_Q6 Cronbach's Alpha: {alpha}\")"
   ]
  },
  {
   "cell_type": "code",
   "execution_count": 120,
   "id": "c402fe90-1d0a-41f2-bc2a-d5c16e8b63ad",
   "metadata": {},
   "outputs": [
    {
     "name": "stdout",
     "output_type": "stream",
     "text": [
      "r_Q7 Cronbach's Alpha: 0.714561855670103\n",
      "s_Q7 Cronbach's Alpha: -0.06876790830945578\n",
      "u_Q7 Cronbach's Alpha: 0.6963434022257553\n"
     ]
    }
   ],
   "source": [
    "alpha, confidence_interval = pg.cronbach_alpha(data=r_q7)\n",
    "print(f\"r_Q7 Cronbach's Alpha: {alpha}\")\n",
    "\n",
    "alpha, confidence_interval = pg.cronbach_alpha(data=s_q7)\n",
    "print(f\"s_Q7 Cronbach's Alpha: {alpha}\")\n",
    "\n",
    "alpha, confidence_interval = pg.cronbach_alpha(data=u_q7)\n",
    "print(f\"u_Q7 Cronbach's Alpha: {alpha}\")"
   ]
  },
  {
   "cell_type": "code",
   "execution_count": 121,
   "id": "bf3a418b-aa21-484e-ad21-c44589e01ece",
   "metadata": {},
   "outputs": [
    {
     "name": "stdout",
     "output_type": "stream",
     "text": [
      "r_Q8 Cronbach's Alpha: 0.7103098143560572\n",
      "s_Q8 Cronbach's Alpha: 0.809186648420301\n",
      "u_Q8 Cronbach's Alpha: 0.9264630258150776\n"
     ]
    }
   ],
   "source": [
    "alpha, confidence_interval = pg.cronbach_alpha(data=r_q8)\n",
    "print(f\"r_Q8 Cronbach's Alpha: {alpha}\")\n",
    "\n",
    "alpha, confidence_interval = pg.cronbach_alpha(data=s_q8)\n",
    "print(f\"s_Q8 Cronbach's Alpha: {alpha}\")\n",
    "\n",
    "alpha, confidence_interval = pg.cronbach_alpha(data=u_q8)\n",
    "print(f\"u_Q8 Cronbach's Alpha: {alpha}\")"
   ]
  },
  {
   "cell_type": "markdown",
   "id": "f6f0415e-dac4-4b2f-a146-aa90d03e939a",
   "metadata": {},
   "source": [
    "### Q4 Kruskal Wallis Test\n"
   ]
  },
  {
   "cell_type": "code",
   "execution_count": 123,
   "id": "c6c84225-7004-47ef-83e1-c7bb24466661",
   "metadata": {},
   "outputs": [
    {
     "name": "stdout",
     "output_type": "stream",
     "text": [
      "Requirement already satisfied: scikit-posthocs in /Users/natalie/Downloads/python/anaconda3/lib/python3.12/site-packages (0.11.4)\n",
      "Requirement already satisfied: numpy in /Users/natalie/Downloads/python/anaconda3/lib/python3.12/site-packages (from scikit-posthocs) (1.26.4)\n",
      "Requirement already satisfied: scipy>=1.9.0 in /Users/natalie/Downloads/python/anaconda3/lib/python3.12/site-packages (from scikit-posthocs) (1.13.1)\n",
      "Requirement already satisfied: statsmodels in /Users/natalie/Downloads/python/anaconda3/lib/python3.12/site-packages (from scikit-posthocs) (0.14.2)\n",
      "Requirement already satisfied: pandas>=0.20.0 in /Users/natalie/Downloads/python/anaconda3/lib/python3.12/site-packages (from scikit-posthocs) (2.2.2)\n",
      "Requirement already satisfied: seaborn in /Users/natalie/Downloads/python/anaconda3/lib/python3.12/site-packages (from scikit-posthocs) (0.13.2)\n",
      "Requirement already satisfied: matplotlib in /Users/natalie/Downloads/python/anaconda3/lib/python3.12/site-packages (from scikit-posthocs) (3.10.0)\n",
      "Requirement already satisfied: python-dateutil>=2.8.2 in /Users/natalie/Downloads/python/anaconda3/lib/python3.12/site-packages (from pandas>=0.20.0->scikit-posthocs) (2.9.0.post0)\n",
      "Requirement already satisfied: pytz>=2020.1 in /Users/natalie/Downloads/python/anaconda3/lib/python3.12/site-packages (from pandas>=0.20.0->scikit-posthocs) (2024.1)\n",
      "Requirement already satisfied: tzdata>=2022.7 in /Users/natalie/Downloads/python/anaconda3/lib/python3.12/site-packages (from pandas>=0.20.0->scikit-posthocs) (2023.3)\n",
      "Requirement already satisfied: contourpy>=1.0.1 in /Users/natalie/Downloads/python/anaconda3/lib/python3.12/site-packages (from matplotlib->scikit-posthocs) (1.2.0)\n",
      "Requirement already satisfied: cycler>=0.10 in /Users/natalie/Downloads/python/anaconda3/lib/python3.12/site-packages (from matplotlib->scikit-posthocs) (0.11.0)\n",
      "Requirement already satisfied: fonttools>=4.22.0 in /Users/natalie/Downloads/python/anaconda3/lib/python3.12/site-packages (from matplotlib->scikit-posthocs) (4.51.0)\n",
      "Requirement already satisfied: kiwisolver>=1.3.1 in /Users/natalie/Downloads/python/anaconda3/lib/python3.12/site-packages (from matplotlib->scikit-posthocs) (1.4.4)\n",
      "Requirement already satisfied: packaging>=20.0 in /Users/natalie/Downloads/python/anaconda3/lib/python3.12/site-packages (from matplotlib->scikit-posthocs) (23.2)\n",
      "Requirement already satisfied: pillow>=8 in /Users/natalie/Downloads/python/anaconda3/lib/python3.12/site-packages (from matplotlib->scikit-posthocs) (10.3.0)\n",
      "Requirement already satisfied: pyparsing>=2.3.1 in /Users/natalie/Downloads/python/anaconda3/lib/python3.12/site-packages (from matplotlib->scikit-posthocs) (3.0.9)\n",
      "Requirement already satisfied: patsy>=0.5.6 in /Users/natalie/Downloads/python/anaconda3/lib/python3.12/site-packages (from statsmodels->scikit-posthocs) (0.5.6)\n",
      "Requirement already satisfied: six in /Users/natalie/Downloads/python/anaconda3/lib/python3.12/site-packages (from patsy>=0.5.6->statsmodels->scikit-posthocs) (1.16.0)\n"
     ]
    }
   ],
   "source": [
    "!pip install scikit-posthocs  \n",
    "# Import required libraries\n",
    "from scipy.stats import kruskal, mannwhitneyu\n",
    "import matplotlib.pyplot as plt\n",
    "import seaborn as sns\n",
    "from scipy import stats  "
   ]
  },
  {
   "cell_type": "code",
   "execution_count": 124,
   "id": "f84dc8d6-b1d2-41b0-b72b-7899ec2118cf",
   "metadata": {},
   "outputs": [
    {
     "name": "stdout",
     "output_type": "stream",
     "text": [
      "Q4_1: H = 8.528, p = 0.0141\n"
     ]
    }
   ],
   "source": [
    "# Add a group label to each dataset\n",
    "r_q4['group'] = 'r'\n",
    "s_q4['group'] = 's'\n",
    "u_q4['group'] = 'u'\n",
    "\n",
    "# Combine into one DataFrame\n",
    "combined_data = pd.concat([r_q4, s_q4, u_q4], ignore_index=True)\n",
    "\n",
    "\n",
    "# Combine and select Q4_1\n",
    "q4_1_data = pd.concat([\n",
    "    r_q4[['Q4_1', 'group']], \n",
    "    s_q4[['Q4_1', 'group']], \n",
    "    u_q4[['Q4_1', 'group']]\n",
    "])\n",
    "\n",
    "# Kruskal-Wallis\n",
    "r = q4_1_data[q4_1_data['group'] == 'r']['Q4_1']\n",
    "s = q4_1_data[q4_1_data['group'] == 's']['Q4_1']\n",
    "u = q4_1_data[q4_1_data['group'] == 'u']['Q4_1']\n",
    "stat, p = kruskal(r, s, u)\n",
    "print(f\"Q4_1: H = {stat:.3f}, p = {p:.4f}\")\n"
   ]
  },
  {
   "cell_type": "markdown",
   "id": "f7f681b9-f936-4e85-b072-42766a493c0b",
   "metadata": {},
   "source": [
    "P < 0.05\n",
    "* Result is statistically significant"
   ]
  },
  {
   "cell_type": "code",
   "execution_count": 126,
   "id": "0df8d8e5-2e91-490a-b422-1781abcb6d1f",
   "metadata": {},
   "outputs": [
    {
     "name": "stdout",
     "output_type": "stream",
     "text": [
      "          r        s         u\n",
      "r  1.000000  1.00000  0.038304\n",
      "s  1.000000  1.00000  0.020720\n",
      "u  0.038304  0.02072  1.000000\n"
     ]
    }
   ],
   "source": [
    "import scikit_posthocs as sp\n",
    "\n",
    "# Perform Dunn's test\n",
    "dunn_results = sp.posthoc_dunn(q4_1_data, val_col='Q4_1', group_col='group', p_adjust='bonferroni')\n",
    "print(dunn_results)\n"
   ]
  },
  {
   "cell_type": "markdown",
   "id": "95ff0da1-b694-480a-bbaa-2289dc34726d",
   "metadata": {},
   "source": [
    "##### Q4_1: I achieved a favourable outcome in the negotiation.\t\n",
    "\n",
    "Significant Differences (p < 0.05):\n",
    "\n",
    "r vs. u: p = 0.038 \n",
    "* Group r is significantly different from Group u.\n",
    "\n",
    "s vs. u: p = 0.021\n",
    "* Group s is significantly different from Group u.\n",
    "\n",
    "Non-Significant Differences (p ≥ 0.05):\n",
    "\n",
    "r vs. s: p = 1.000\n",
    "* No significant difference between Groups r and s.\n",
    "\n",
    "Conclusion:\n",
    "* Groups r and s are statistically similar in their responses to this question.\n",
    "* Group u is significantly different from both r and s.\n",
    "\n"
   ]
  },
  {
   "cell_type": "code",
   "execution_count": 128,
   "id": "f2158ce2-c690-47d9-831b-139abdee6f00",
   "metadata": {},
   "outputs": [
    {
     "name": "stdout",
     "output_type": "stream",
     "text": [
      "Q4_2: H = 11.186, p = 0.0037\n"
     ]
    }
   ],
   "source": [
    "# Combine and select Q4_2\n",
    "q4_2_data = pd.concat([\n",
    "    r_q4[['Q4_2', 'group']], \n",
    "    s_q4[['Q4_2', 'group']], \n",
    "    u_q4[['Q4_2', 'group']]\n",
    "])\n",
    "\n",
    "# Kruskal-Wallis\n",
    "r = q4_2_data[q4_2_data['group'] == 'r']['Q4_2']\n",
    "s = q4_2_data[q4_2_data['group'] == 's']['Q4_2']\n",
    "u = q4_2_data[q4_2_data['group'] == 'u']['Q4_2']\n",
    "stat, p = kruskal(r, s, u)\n",
    "print(f\"Q4_2: H = {stat:.3f}, p = {p:.4f}\")"
   ]
  },
  {
   "cell_type": "markdown",
   "id": "6fc2cceb-35a6-4ac1-a418-b6baf3c9962e",
   "metadata": {},
   "source": [
    "P < 0.05\n",
    "* Result is statistically significant"
   ]
  },
  {
   "cell_type": "code",
   "execution_count": 130,
   "id": "946eb78b-3e42-42bf-b2c4-02ad6681b642",
   "metadata": {},
   "outputs": [
    {
     "name": "stdout",
     "output_type": "stream",
     "text": [
      "          r         s         u\n",
      "r  1.000000  1.000000  0.004639\n",
      "s  1.000000  1.000000  0.018459\n",
      "u  0.004639  0.018459  1.000000\n"
     ]
    }
   ],
   "source": [
    "# Perform Dunn's test\n",
    "dunn_results = sp.posthoc_dunn(q4_2_data, val_col='Q4_2', group_col='group', p_adjust='bonferroni')\n",
    "print(dunn_results)\n"
   ]
  },
  {
   "cell_type": "markdown",
   "id": "e06186de-b5e8-4847-8591-03c312d97850",
   "metadata": {},
   "source": [
    "##### Q4_2: I felt in control during the negotiation.\t\n",
    "\n",
    "Significant Differences (p < 0.05):\n",
    "\n",
    "r and s:\n",
    "p-value = 1.000 (not significant).\n",
    "There is no statistically significant difference between groups r and s.\n",
    "\n",
    "r and u:\n",
    "p-value = 0.004639.\n",
    "There is a statistically significant difference between groups r and u.\n",
    "\n",
    "s and u:\n",
    "p-value = 0.018459.\n",
    "There is a statistically significant difference between groups s and u \n",
    "\n",
    "Conclusion:\n",
    "* Groups r and s are statistically similar in their responses to this question.\n",
    "* Group u is significantly different from both r and s."
   ]
  },
  {
   "cell_type": "code",
   "execution_count": 132,
   "id": "72a9976e-9998-4168-b144-9df9b3e80200",
   "metadata": {},
   "outputs": [
    {
     "name": "stdout",
     "output_type": "stream",
     "text": [
      "Q4_3: H = 4.886, p = 0.0869\n"
     ]
    }
   ],
   "source": [
    "# Combine and select Q4_3\n",
    "q4_3_data = pd.concat([\n",
    "    r_q4[['Q4_3', 'group']], \n",
    "    s_q4[['Q4_3', 'group']], \n",
    "    u_q4[['Q4_3', 'group']]\n",
    "])\n",
    "\n",
    "# Kruskal-Wallis\n",
    "r = q4_3_data[q4_3_data['group'] == 'r']['Q4_3']\n",
    "s = q4_3_data[q4_3_data['group'] == 's']['Q4_3']\n",
    "u = q4_3_data[q4_3_data['group'] == 'u']['Q4_3']\n",
    "stat, p = kruskal(r, s, u)\n",
    "print(f\"Q4_3: H = {stat:.3f}, p = {p:.4f}\")"
   ]
  },
  {
   "cell_type": "markdown",
   "id": "9e5b1800-ef5d-41dc-9a82-09b77a4b729d",
   "metadata": {},
   "source": [
    "##### Q4_3: The final agreement was fair to all parties involved.\n",
    "\n",
    "* Since p = 0.0869 > 0.05, this means there is no statistically significant difference among the three groups at the 0.05 significance level."
   ]
  },
  {
   "cell_type": "markdown",
   "id": "bb0ef791-390e-4e9a-bd54-73f877161fe9",
   "metadata": {},
   "source": [
    "### Q4 Descriptive statistics "
   ]
  },
  {
   "cell_type": "code",
   "execution_count": 135,
   "id": "a3ba06f5-2073-42a6-9876-9786e62be3e1",
   "metadata": {},
   "outputs": [
    {
     "name": "stdout",
     "output_type": "stream",
     "text": [
      "===== Mean (Average) =====\n",
      "           Q4_1      Q4_2      Q4_3\n",
      "group                              \n",
      "r      4.652174  4.391304  4.478261\n",
      "s      4.800000  4.500000  4.300000\n",
      "u      3.300000  3.000000  3.500000\n",
      "\n",
      "===== Median =====\n",
      "       Q4_1  Q4_2  Q4_3\n",
      "group                  \n",
      "r       5.0   5.0   5.0\n",
      "s       5.0   4.5   4.0\n",
      "u       4.0   3.0   4.0\n",
      "\n",
      "===== Mode =====\n",
      "\n",
      "Group r:\n",
      "Q4_1: 5 (Frequency: 15)\n",
      "Q4_2: 5 (Frequency: 13)\n",
      "Q4_3: 5 (Frequency: 15)\n",
      "\n",
      "Group s:\n",
      "Q4_1: 5 (Frequency: 8)\n",
      "Q4_2: 4 (Frequency: 5)\n",
      "Q4_3: 4 (Frequency: 5)\n",
      "\n",
      "Group u:\n",
      "Q4_1: 4 (Frequency: 3)\n",
      "Q4_2: 2 (Frequency: 3)\n",
      "Q4_3: 4 (Frequency: 3)\n"
     ]
    }
   ],
   "source": [
    "# Group data by 'group'\n",
    "grouped = combined_data.groupby('group')\n",
    "\n",
    "# Define questions\n",
    "questions = ['Q4_1', 'Q4_2', 'Q4_3']\n",
    "\n",
    "# Print Mean for all groups\n",
    "print(\"===== Mean (Average) =====\")\n",
    "print(grouped[questions].mean())\n",
    "\n",
    "# Print Median for all groups\n",
    "print(\"\\n===== Median =====\")\n",
    "print(grouped[questions].median())\n",
    "\n",
    "# Print Mode for all groups \n",
    "print(\"\\n===== Mode =====\")\n",
    "for group in grouped.groups:\n",
    "    print(f\"\\nGroup {group}:\")\n",
    "    for q in questions:\n",
    "        mode_result = stats.mode(grouped.get_group(group)[q], keepdims=True)\n",
    "        print(f\"{q}: {mode_result.mode[0]} (Frequency: {mode_result.count[0]})\")"
   ]
  },
  {
   "cell_type": "markdown",
   "id": "b4dcb354-be8c-4483-a304-41b6b5e5ffe2",
   "metadata": {},
   "source": [
    "### Q5 Kruskal Wallis (Perceived negotiation expertise)"
   ]
  },
  {
   "cell_type": "code",
   "execution_count": 137,
   "id": "750f549b-d8cf-43f5-b077-2873e32f78da",
   "metadata": {},
   "outputs": [
    {
     "name": "stdout",
     "output_type": "stream",
     "text": [
      "Kruskal-Wallis Test:\n",
      "H = 38.469, p = 0.0000\n",
      "→ Significant difference between groups!\n"
     ]
    }
   ],
   "source": [
    "# Add group labels\n",
    "r_q5['group'] = 'r'\n",
    "s_q5['group'] = 's'\n",
    "u_q5['group'] = 'u'\n",
    "\n",
    "# Combine into one df\n",
    "q5_combined_data = pd.concat([r_q5, s_q5, u_q5], ignore_index=True)\n",
    "\n",
    "# Melt \n",
    "q5_melted_data = q5_combined_data.melt(\n",
    "    id_vars=['group'], \n",
    "    value_vars=['Q5_1', 'Q5_2', 'Q5_3', 'Q5_4', 'Q5_5'],\n",
    "    value_name='response'\n",
    ")\n",
    "\n",
    "#  Kruskal-Wallis \n",
    "r = q5_melted_data[q5_melted_data['group'] == 'r']['response']\n",
    "s = q5_melted_data[q5_melted_data['group'] == 's']['response']\n",
    "u = q5_melted_data[q5_melted_data['group'] == 'u']['response']\n",
    "\n",
    "stat, p = kruskal(r, s, u)\n",
    "print(f\"Kruskal-Wallis Test:\")\n",
    "print(f\"H = {stat:.3f}, p = {p:.4f}\")\n",
    "\n",
    "if p < 0.05:\n",
    "    print(\"→ Significant difference between groups!\")\n",
    "else:\n",
    "    print(\"→ No significant difference detected.\")"
   ]
  },
  {
   "cell_type": "code",
   "execution_count": 138,
   "id": "a998a631-f845-4d12-8849-9216ec688a10",
   "metadata": {},
   "outputs": [
    {
     "name": "stdout",
     "output_type": "stream",
     "text": [
      "Pairwise Comparisons (Dunn's Test):\n",
      "              r         s             u\n",
      "r  1.000000e+00  0.007830  3.604395e-09\n",
      "s  7.830289e-03  1.000000  2.796190e-02\n",
      "u  3.604395e-09  0.027962  1.000000e+00\n"
     ]
    }
   ],
   "source": [
    "# Perform Dunn's test \n",
    "q5_posthoc_results = sp.posthoc_dunn(\n",
    "    q5_melted_data, \n",
    "    val_col='response', \n",
    "    group_col='group',\n",
    "    p_adjust='bonferroni'  \n",
    ")\n",
    "\n",
    "print(\"Pairwise Comparisons (Dunn's Test):\")\n",
    "print(q5_posthoc_results)\n"
   ]
  },
  {
   "cell_type": "markdown",
   "id": "55da0983-5b6c-4865-a159-7264c8522aaa",
   "metadata": {},
   "source": [
    "##### Key Findings (α = 0.05)\n",
    "\n",
    "r vs. u\n",
    "p = 3.60e-09 (≈ 0.0000000036)\n",
    "* Highly significant difference (strongest effect).\n",
    "\n",
    "r vs. s\n",
    "p = 0.0078\n",
    "* Significant difference (but weaker than r-u).\n",
    "  \n",
    "s vs. u\n",
    "p = 0.028\n",
    "* Significant difference."
   ]
  },
  {
   "cell_type": "markdown",
   "id": "faa40450-9bde-4316-a225-ea6a16748184",
   "metadata": {},
   "source": [
    "### Q5 Descriptive Statistics"
   ]
  },
  {
   "cell_type": "code",
   "execution_count": 242,
   "id": "62ba7ef8-49da-47a2-9544-3f05de0437f0",
   "metadata": {},
   "outputs": [
    {
     "name": "stdout",
     "output_type": "stream",
     "text": [
      "Mean, Median, Mode, and Mode Frequency by Group:\n",
      "           mean  median  mode  mode_frequency\n",
      "group                                        \n",
      "r      3.626087     4.0     4              53\n",
      "s      3.020000     3.0     3              14\n",
      "u      2.360000     2.0     2              17\n"
     ]
    }
   ],
   "source": [
    "q5_group_stats = q5_melted_data.groupby('group')['response'].agg([\n",
    "    ('mean', 'mean'),\n",
    "    ('median', 'median'),\n",
    "    ('mode', lambda x: stats.mode(x, keepdims=True).mode[0]),\n",
    "    ('mode_frequency', lambda x: stats.mode(x, keepdims=True).count[0])\n",
    "])\n",
    "\n",
    "print(\"Mean, Median, Mode, and Mode Frequency by Group:\")\n",
    "print(q5_group_stats)"
   ]
  },
  {
   "cell_type": "markdown",
   "id": "40a11b49-14ae-4a33-9934-956c74831b91",
   "metadata": {},
   "source": [
    "##### Conclusion\n",
    "It appears that group r is the most confident in negotiations, followed by s and u, with the least confident in their perceived negotiation expertise\n",
    "\n",
    "##### Q5 Perceived negotiation expertise\n",
    "* I am confident in my negotiation skills\n",
    "* I have received some form of negotiation training\n",
    "* I have had prior experience in negotiating\n",
    "* I regularly apply negotiation skills in my professional or personal life.\n",
    "* I am familiar with common negotiation tactics \n"
   ]
  },
  {
   "cell_type": "markdown",
   "id": "bb29d8f6-1aa7-48c6-a8a0-63d73d4ea506",
   "metadata": {},
   "source": [
    "### Q6 Kruskal Wallis "
   ]
  },
  {
   "cell_type": "code",
   "execution_count": 144,
   "id": "50b6fec9-152f-4097-a222-3dd0fb7d4555",
   "metadata": {},
   "outputs": [
    {
     "name": "stdout",
     "output_type": "stream",
     "text": [
      "Kruskal-Wallis Test:\n",
      "H = 6.768, p = 0.0339\n",
      "→ Significant difference between groups!\n"
     ]
    }
   ],
   "source": [
    "# Add group labels\n",
    "r_q6['group'] = 'r'\n",
    "s_q6['group'] = 's'\n",
    "u_q6['group'] = 'u'\n",
    "\n",
    "# Combine into one df\n",
    "q6_combined_data = pd.concat([r_q6, s_q6, u_q6], ignore_index=True)\n",
    "\n",
    "# Melt \n",
    "q6_melted_data = q6_combined_data.melt(\n",
    "    id_vars=['group'], \n",
    "    value_vars=['Q6_1', 'Q6_2', 'Q6_3', 'Q6_4'],\n",
    "    value_name='response'\n",
    ")\n",
    "\n",
    "# Kruskal-Wallis \n",
    "r = q6_melted_data[q6_melted_data['group'] == 'r']['response']\n",
    "s = q6_melted_data[q6_melted_data['group'] == 's']['response']\n",
    "u = q6_melted_data[q6_melted_data['group'] == 'u']['response']\n",
    "\n",
    "stat, p = kruskal(r, s, u)\n",
    "print(f\"Kruskal-Wallis Test:\")\n",
    "print(f\"H = {stat:.3f}, p = {p:.4f}\")\n",
    "\n",
    "if p < 0.05:\n",
    "    print(\"→ Significant difference between groups!\")\n",
    "else:\n",
    "    print(\"→ No significant difference detected.\")"
   ]
  },
  {
   "cell_type": "code",
   "execution_count": 145,
   "id": "5c09bb8a-97a3-42fd-96a7-8704ebc2602c",
   "metadata": {},
   "outputs": [
    {
     "name": "stdout",
     "output_type": "stream",
     "text": [
      "Pairwise Comparisons (Dunn's Test):\n",
      "          r         s         u\n",
      "r  1.000000  1.000000  0.081017\n",
      "s  1.000000  1.000000  0.047683\n",
      "u  0.081017  0.047683  1.000000\n"
     ]
    }
   ],
   "source": [
    "# Perform Dunn's test \n",
    "q6_posthoc_results = sp.posthoc_dunn(\n",
    "    q6_melted_data, \n",
    "    val_col='response', \n",
    "    group_col='group',\n",
    "    p_adjust='bonferroni'\n",
    ")\n",
    "\n",
    "print(\"Pairwise Comparisons (Dunn's Test):\")\n",
    "print(q6_posthoc_results)\n"
   ]
  },
  {
   "cell_type": "markdown",
   "id": "2468e38a-85ad-4b1a-ba31-2b1d723bf596",
   "metadata": {},
   "source": [
    "Significant Differences:\n",
    "s vs u: p = 0.048 (significant at α=0.05)\n",
    "\n",
    "Non-Significant Comparisons:\n",
    "* r vs s: p = 1.000 (no significant difference)\n",
    "* r vs u: p = 0.081 (no significant difference)\n",
    "\n",
    "Conclusion\n",
    "* There's moderate evidence that group u gives systematically different responses than group s (p < .05)\n",
    "* There's weak evidence that group u differs from group r\n",
    "* Groups r and s are not meaningfully different in their responses"
   ]
  },
  {
   "cell_type": "markdown",
   "id": "c3d5cd4d-e912-408d-88e3-2762096dfe7c",
   "metadata": {},
   "source": [
    "### Q6 Descriptive statistics "
   ]
  },
  {
   "cell_type": "code",
   "execution_count": 280,
   "id": "02f50e7d-d1e0-48c4-978d-e0c8458bb48f",
   "metadata": {},
   "outputs": [
    {
     "name": "stdout",
     "output_type": "stream",
     "text": [
      "Mean, Median, Mode, and Mode Frequency by Group:\n",
      "           mean  median  mode  mode_frequency\n",
      "group                                        \n",
      "r      4.423913     5.0     5              53\n",
      "s      4.550000     5.0     5              25\n",
      "u      4.175000     4.0     4              18\n"
     ]
    }
   ],
   "source": [
    "q6_group_stats = q6_melted_data.groupby('group')['response'].agg([\n",
    "    ('mean', 'mean'),\n",
    "    ('median', 'median'),\n",
    "    ('mode', lambda x: stats.mode(x, keepdims=True).mode[0]),\n",
    "    ('mode_frequency', lambda x: stats.mode(x, keepdims=True).count[0])\n",
    "])\n",
    "\n",
    "print(\"Mean, Median, Mode, and Mode Frequency by Group:\")\n",
    "print(q6_group_stats)"
   ]
  },
  {
   "cell_type": "markdown",
   "id": "f5498231-512d-4d9c-be62-a020153c89ee",
   "metadata": {},
   "source": [
    "* Consensus in r/s: Both show perfect agreement (mode=5) with strong positive skew (mean < median)\n",
    "\n",
    "* u differs: Shows less agreement (mode=4) and lower central tendency\n",
    "\n",
    "* s is most positive: Highest mean (4.55) and unanimous top scores"
   ]
  },
  {
   "cell_type": "markdown",
   "id": "95673e5c-d775-47ed-a071-1ea390a310d1",
   "metadata": {},
   "source": [
    "### Q7 Kruskal Wallis"
   ]
  },
  {
   "cell_type": "code",
   "execution_count": 149,
   "id": "a3fb4626-7603-49e3-ac86-517f75ccdb27",
   "metadata": {},
   "outputs": [
    {
     "name": "stdout",
     "output_type": "stream",
     "text": [
      "Q7_1: H = 0.500, p = 0.7789\n"
     ]
    }
   ],
   "source": [
    "# Add a group label to each dataset\n",
    "r_q7['group'] = 'r'\n",
    "s_q7['group'] = 's'\n",
    "u_q7['group'] = 'u'\n",
    "\n",
    "# Combine into one df\n",
    "q7_combined_data = pd.concat([r_q7, s_q7, u_q7], ignore_index=True)\n",
    "\n",
    "\n",
    "# Q7_1\n",
    "q7_1_data = pd.concat([\n",
    "    r_q7[['Q7_1', 'group']], \n",
    "    s_q7[['Q7_1', 'group']], \n",
    "    u_q7[['Q7_1', 'group']]\n",
    "])\n",
    "\n",
    "# Kruskal-Wallis\n",
    "r = q7_1_data[q7_1_data['group'] == 'r']['Q7_1']\n",
    "s = q7_1_data[q7_1_data['group'] == 's']['Q7_1']\n",
    "u = q7_1_data[q7_1_data['group'] == 'u']['Q7_1']\n",
    "stat, p = kruskal(r, s, u)\n",
    "print(f\"Q7_1: H = {stat:.3f}, p = {p:.4f}\")\n"
   ]
  },
  {
   "cell_type": "markdown",
   "id": "cc483ece-18fb-4efb-8fdc-41543e038d6e",
   "metadata": {},
   "source": [
    "P > 0.05 \n",
    "* Result is not significant"
   ]
  },
  {
   "cell_type": "code",
   "execution_count": 150,
   "id": "846bebdc-6f42-464b-a967-bcc7454225a2",
   "metadata": {},
   "outputs": [
    {
     "name": "stdout",
     "output_type": "stream",
     "text": [
      "Q7_2: H = 1.586, p = 0.4525\n"
     ]
    }
   ],
   "source": [
    "# Q7_2\n",
    "q7_2_data = pd.concat([\n",
    "    r_q7[['Q7_2', 'group']], \n",
    "    s_q7[['Q7_2', 'group']], \n",
    "    u_q7[['Q7_2', 'group']]\n",
    "])\n",
    "\n",
    "# Kruskal-Wallis\n",
    "r = q7_2_data[q7_2_data['group'] == 'r']['Q7_2']\n",
    "s = q7_2_data[q7_2_data['group'] == 's']['Q7_2']\n",
    "u = q7_2_data[q7_2_data['group'] == 'u']['Q7_2']\n",
    "stat, p = kruskal(r, s, u)\n",
    "print(f\"Q7_2: H = {stat:.3f}, p = {p:.4f}\")"
   ]
  },
  {
   "cell_type": "markdown",
   "id": "95def94d-b061-4683-9330-7112754f5a47",
   "metadata": {},
   "source": [
    "P > 0.05 \n",
    "* Result is not significant"
   ]
  },
  {
   "cell_type": "code",
   "execution_count": 151,
   "id": "c4115684-d9b4-4f81-a83a-8f87269c8ef0",
   "metadata": {},
   "outputs": [
    {
     "name": "stdout",
     "output_type": "stream",
     "text": [
      "Q7_3: H = 4.608, p = 0.0998\n"
     ]
    }
   ],
   "source": [
    "# Q7_3\n",
    "q7_3_data = pd.concat([\n",
    "    r_q7[['Q7_3', 'group']], \n",
    "    s_q7[['Q7_3', 'group']], \n",
    "    u_q7[['Q7_3', 'group']]\n",
    "])\n",
    "\n",
    "# Kruskal-Wallis\n",
    "r = q7_3_data[q7_3_data['group'] == 'r']['Q7_3']\n",
    "s = q7_3_data[q7_3_data['group'] == 's']['Q7_3']\n",
    "u = q7_3_data[q7_3_data['group'] == 'u']['Q7_3']\n",
    "stat, p = kruskal(r, s, u)\n",
    "print(f\"Q7_3: H = {stat:.3f}, p = {p:.4f}\")"
   ]
  },
  {
   "cell_type": "markdown",
   "id": "2c4bb96b-9271-4f81-b2b5-0d2d7986e33c",
   "metadata": {},
   "source": [
    "P > 0.05 \n",
    "* Result is not significant"
   ]
  },
  {
   "cell_type": "code",
   "execution_count": 152,
   "id": "91a62ba5-ac65-4d30-a13e-4165b2f8fa01",
   "metadata": {},
   "outputs": [
    {
     "name": "stdout",
     "output_type": "stream",
     "text": [
      "===== Mean (Average) =====\n",
      "           Q7_1      Q7_2      Q7_3\n",
      "group                              \n",
      "r      3.608696  2.869565  2.782609\n",
      "s      3.700000  3.400000  3.000000\n",
      "u      3.800000  2.800000  3.500000\n",
      "\n",
      "===== Median =====\n",
      "       Q7_1  Q7_2  Q7_3\n",
      "group                  \n",
      "r       4.0   3.0   3.0\n",
      "s       4.0   4.0   3.0\n",
      "u       4.5   3.0   3.5\n",
      "\n",
      "===== Mode =====\n",
      "\n",
      "Group r:\n",
      "Q7_1: 5 (Frequency: 7)\n",
      "Q7_2: 4 (Frequency: 8)\n",
      "Q7_3: 3 (Frequency: 10)\n",
      "\n",
      "Group s:\n",
      "Q7_1: 4 (Frequency: 5)\n",
      "Q7_2: 4 (Frequency: 5)\n",
      "Q7_3: 3 (Frequency: 4)\n",
      "\n",
      "Group u:\n",
      "Q7_1: 5 (Frequency: 5)\n",
      "Q7_2: 2 (Frequency: 3)\n",
      "Q7_3: 3 (Frequency: 5)\n"
     ]
    }
   ],
   "source": [
    "# Group data by 'group'\n",
    "q7_grouped = q7_combined_data.groupby('group')\n",
    "\n",
    "# Define questions\n",
    "q7_questions = ['Q7_1', 'Q7_2', 'Q7_3']\n",
    "\n",
    "# Print Mean for all groups\n",
    "print(\"===== Mean (Average) =====\")\n",
    "print(q7_grouped[q7_questions].mean())\n",
    "\n",
    "# Print Median for all groups\n",
    "print(\"\\n===== Median =====\")\n",
    "print(q7_grouped[q7_questions].median())\n",
    "\n",
    "# Print Mode for all groups\n",
    "print(\"\\n===== Mode =====\")\n",
    "for group in q7_grouped.groups:\n",
    "    print(f\"\\nGroup {group}:\")\n",
    "    for q in q7_questions:\n",
    "        mode_result = stats.mode(q7_grouped.get_group(group)[q], keepdims=True)\n",
    "        print(f\"{q}: {mode_result.mode[0]} (Frequency: {mode_result.count[0]})\")"
   ]
  },
  {
   "cell_type": "markdown",
   "id": "039e49db-f84c-48ec-a49e-0ac871676e35",
   "metadata": {},
   "source": [
    "Group u showed notably higher enthusiasm on Q7_1 (Mdn=4.5), while demonstrating polarised responses on Q7_2 (modes at 2 and 4). Group s maintained consistent moderate positivity across all questions, whereas group r was most neutral, particularly on Q7_3 (Mdn=3). The largest inter-group difference emerged on Q7_3 (Δmean=0.72 between u and r).\""
   ]
  },
  {
   "cell_type": "markdown",
   "id": "b197f4d4-eaa0-4127-b645-2e448f4f00e3",
   "metadata": {},
   "source": [
    "### Support and Undermine Q8 Mann Whitney U"
   ]
  },
  {
   "cell_type": "code",
   "execution_count": 154,
   "id": "adc3ed51-a12a-4f6b-9db8-c9b0518dbe92",
   "metadata": {},
   "outputs": [
    {
     "name": "stdout",
     "output_type": "stream",
     "text": [
      "Mann-Whitney U Test (s vs u):\n",
      "U statistic = 3784.0\n",
      "p-value = 0.0366\n",
      "Effect size (rank-biserial) = -0.183\n",
      "\n",
      "Significant difference: Group s has lower responses than group u (p < 0.05)\n"
     ]
    }
   ],
   "source": [
    "from scipy.stats import mannwhitneyu\n",
    "\n",
    "# Add group labels\n",
    "s_q8['group'] = 's'\n",
    "u_q8['group'] = 'u'\n",
    "\n",
    "# Combine into one DataFrame\n",
    "q8_combined_data = pd.concat([s_q8, u_q8], ignore_index=True)\n",
    "\n",
    "# Melt the data into a single 'response' column\n",
    "q8_melted_data = q8_combined_data.melt(\n",
    "    id_vars=['group'], \n",
    "    value_vars=['Q8_1', 'Q8_2', 'Q8_3', 'Q8_4', 'Q8_5', 'Q8_6', 'Q8_7', 'Q8_8'],\n",
    "    var_name='question',\n",
    "    value_name='response'\n",
    ")\n",
    "\n",
    "# Extract responses for groups s and u\n",
    "s_responses = q8_melted_data[q8_melted_data['group'] == 's']['response']\n",
    "u_responses = q8_melted_data[q8_melted_data['group'] == 'u']['response']\n",
    "\n",
    "# Perform Mann-Whitney U test\n",
    "stat, p_value = mannwhitneyu(s_responses, u_responses, alternative='two-sided')\n",
    "\n",
    "# Calculate effect size (rank-biserial correlation)\n",
    "n1, n2 = len(s_responses), len(u_responses)\n",
    "effect_size = 1 - (2 * stat) / (n1 * n2)  # ranges from -1 to 1\n",
    "\n",
    "# Print results\n",
    "print(f\"Mann-Whitney U Test (s vs u):\")\n",
    "print(f\"U statistic = {stat:.1f}\")\n",
    "print(f\"p-value = {p_value:.4f}\")\n",
    "print(f\"Effect size (rank-biserial) = {effect_size:.3f}\")\n",
    "\n",
    "# Add interpretation\n",
    "if p_value < 0.05:\n",
    "    direction = \"higher\" if s_responses.median() > u_responses.median() else \"lower\"\n",
    "    print(f\"\\nSignificant difference: Group s has {direction} responses than group u (p < 0.05)\")\n",
    "else:\n",
    "    print(\"\\nNo significant difference found\")"
   ]
  },
  {
   "cell_type": "code",
   "execution_count": 260,
   "id": "1155b3b0-6ed1-48e5-acd6-4fc52a7e57db",
   "metadata": {},
   "outputs": [
    {
     "name": "stdout",
     "output_type": "stream",
     "text": [
      "Collecting cliffs-delta\n",
      "  Downloading cliffs_delta-1.0.0-py3-none-any.whl.metadata (1.7 kB)\n",
      "Downloading cliffs_delta-1.0.0-py3-none-any.whl (10 kB)\n",
      "Installing collected packages: cliffs-delta\n",
      "Successfully installed cliffs-delta-1.0.0\n",
      "Cliff’s Delta: 0.1825\n"
     ]
    }
   ],
   "source": [
    "!pip install cliffs-delta\n",
    "from cliffs_delta import cliffs_delta  # Install: pip install cliffs-delta\n",
    "d, _ = cliffs_delta(s_responses, u_responses)\n",
    "print(\"Cliff’s Delta:\", d)  # >0 if S > U, <0 if S < U"
   ]
  },
  {
   "cell_type": "code",
   "execution_count": 265,
   "id": "5a0035df-be3c-40d2-b4be-2f17001711d3",
   "metadata": {},
   "outputs": [
    {
     "name": "stdout",
     "output_type": "stream",
     "text": [
      "Correct order: U=3784.0, rb=-0.183\n",
      "Swapped order: U=2616.0, rb=0.182\n"
     ]
    }
   ],
   "source": [
    "S = np.array([1]*2 + [2]*7 + [3]*11 + [4]*26 + [5]*34)  # Group S\n",
    "U = np.array([1]*5 + [2]*13 + [3]*9 + [4]*31 + [5]*22)  # Group U\n",
    "\n",
    "# Case 1: Correct order (S vs U)\n",
    "U1, p1 = mannwhitneyu(S, U, alternative='greater')\n",
    "rb1 = 1 - (2 * U1) / (len(S) * len(U)) \n",
    "\n",
    "# Case 2: Swapped order (U vs S)\n",
    "U2, p2 = mannwhitneyu(U, S, alternative='less')\n",
    "rb2 = 1 - (2 * U2) / (len(S) * len(U))  \n",
    "\n",
    "print(f\"Correct order: U={U1}, rb={rb1:.3f}\")  # Expect: U small, rb > 0\n",
    "print(f\"Swapped order: U={U2}, rb={rb2:.3f}\")  # Expect: U large, rb < 0"
   ]
  },
  {
   "cell_type": "code",
   "execution_count": 270,
   "id": "9107f01a-cb93-41a1-924c-466949ea04ae",
   "metadata": {},
   "outputs": [
    {
     "name": "stdout",
     "output_type": "stream",
     "text": [
      "=== Validation: Response Counts by Group ===\n",
      "response  1   2   3   4   5\n",
      "group                      \n",
      "s         2   7  11  26  34\n",
      "u         5  13   9  31  22\n"
     ]
    },
    {
     "data": {
      "text/plain": [
       "<matplotlib.legend.Legend at 0x1450ac800>"
      ]
     },
     "execution_count": 270,
     "metadata": {},
     "output_type": "execute_result"
    },
    {
     "data": {
      "image/png": "[encoded data removed]",
      "text/plain": [
       "<Figure size 1000x400 with 1 Axes>"
      ]
     },
     "metadata": {},
     "output_type": "display_data"
    }
   ],
   "source": [
    "# Validation: Check Raw Counts \n",
    "print(\"=== Validation: Response Counts by Group ===\")\n",
    "print(q8_melted_data.groupby(['group', 'response']).size().unstack(fill_value=0))\n",
    "\n",
    "# Visualization \n",
    "import matplotlib.pyplot as plt\n",
    "plt.figure(figsize=(10, 4))\n",
    "plt.subplot(1, 2, 1)\n",
    "plt.hist(s_responses, bins=5, alpha=0.5, label='Group S', color='blue', edgecolor='black')\n",
    "plt.hist(u_responses, bins=5, alpha=0.5, label='Group U', color='orange', edgecolor='black')\n",
    "plt.title(\"Response Distribution\")\n",
    "plt.legend()"
   ]
  },
  {
   "cell_type": "markdown",
   "id": "84e69f76-c3de-4daa-aa7d-baba65eabf93",
   "metadata": {},
   "source": [
    "##### Resolution of Mann-Whitney U Test Directionality\n",
    "The initial Mann-Whitney U test suggested Group S had lower responses due to a sign flip in the rank-biserial effect size (rb = −0.183), caused by calculating the test statistic for Group U instead of Group S. To resolve this, we:\n",
    "\n",
    "Re-ran the test with reversed group order (U vs S), confirming the correct direction (rb = +0.182, *p* = 0.018).\n",
    "\n",
    "Calculated Cliff’s Delta (δ = +0.183), which independently verified Group S’s responses were stochastically higher.\n",
    "\n",
    "Validated with raw counts, which showed Group S had 12 more \"Strongly Agree\" (5) responses and fewer \"Strongly Disagree\" (1) responses than Group U.\n",
    "These steps confirmed the original result was an artifact of group order in the U test’s implementation, and Group S is indeed significantly higher."
   ]
  },
  {
   "cell_type": "markdown",
   "id": "8ac3ac0b-3963-4149-bc72-6b2c02a6fb28",
   "metadata": {},
   "source": [
    "##### Conclusion\n",
    "\n",
    "Group s showed significantly higher responses than group u (U = 3784, *p* = .037), though the effect size was small (*r* = -0.18). This suggests a consistent but modest tendency for group s to rate more positively."
   ]
  },
  {
   "cell_type": "markdown",
   "id": "3a650e7b-1075-4d1d-b981-1dea71238df3",
   "metadata": {},
   "source": [
    "### Support and Undermine Q8 Descriptive statistics\n",
    "\n",
    "1. The AI’s involvement improved the negotiation process.\n",
    "2. The AI helped me achieve a better outcome than I would have alone.\n",
    "3. The AI’s suggestions were relevant and useful.\n",
    "4. I trusted the AI’s recommendations during the negotiation.\n",
    "5. I would use a similar AI tool in real-life negotiations.\n",
    "6. The AI’s advice enhanced my confidence in the negotiation.\n",
    "7. The AI helped me understand the other party’s perspective.\n",
    "8. The AI understood me well.\n"
   ]
  },
  {
   "cell_type": "code",
   "execution_count": 276,
   "id": "0d825a13-3410-4f7b-afdb-8c1248e72256",
   "metadata": {},
   "outputs": [
    {
     "name": "stdout",
     "output_type": "stream",
     "text": [
      "===== Mean (Average) =====\n",
      "       Q8_1  Q8_2  Q8_3  Q8_4  Q8_5  Q8_6  Q8_7  Q8_8\n",
      "group                                                \n",
      "s       4.6   4.2   4.2   4.2   3.8   4.2   2.8   4.3\n",
      "u       3.8   3.9   4.1   3.7   3.2   4.2   3.2   3.1\n",
      "\n",
      "===== Median =====\n",
      "       Q8_1  Q8_2  Q8_3  Q8_4  Q8_5  Q8_6  Q8_7  Q8_8\n",
      "group                                                \n",
      "s       5.0   4.0   4.5   4.5   4.0   4.0   3.0   4.5\n",
      "u       4.0   4.5   4.0   4.0   3.5   4.5   3.5   3.5\n",
      "\n",
      "===== Mode =====\n",
      "\n",
      "Group s:\n",
      "Q8_1: 5 (Frequency: 6)\n",
      "Q8_2: 4 (Frequency: 4)\n",
      "Q8_3: 5 (Frequency: 5)\n",
      "Q8_4: 5 (Frequency: 5)\n",
      "Q8_5: 5 (Frequency: 4)\n",
      "Q8_6: 4 (Frequency: 5)\n",
      "Q8_7: 3 (Frequency: 3)\n",
      "Q8_8: 5 (Frequency: 5)\n",
      "\n",
      "Group u:\n",
      "Q8_1: 4 (Frequency: 6)\n",
      "Q8_2: 5 (Frequency: 5)\n",
      "Q8_3: 4 (Frequency: 6)\n",
      "Q8_4: 3 (Frequency: 3)\n",
      "Q8_5: 2 (Frequency: 4)\n",
      "Q8_6: 5 (Frequency: 5)\n",
      "Q8_7: 2 (Frequency: 3)\n",
      "Q8_8: 4 (Frequency: 4)\n",
      "\n",
      "=== Total ===\n",
      "Group S Median: 4.0\n",
      "Group U Median: 4.0\n",
      "Group S Mean: 4.0375\n",
      "Group U Mean: 3.65\n"
     ]
    }
   ],
   "source": [
    "# Group data by 'group'\n",
    "q8_grouped = q8_combined_data.groupby('group')\n",
    "\n",
    "# Define questions\n",
    "q8_questions = ['Q8_1', 'Q8_2', 'Q8_3', 'Q8_4', 'Q8_5', 'Q8_6', 'Q8_7', 'Q8_8']\n",
    "\n",
    "# Print Mean for all groups\n",
    "print(\"===== Mean (Average) =====\")\n",
    "print(q8_grouped[q8_questions].mean())\n",
    "\n",
    "# Print Median for all groups\n",
    "print(\"\\n===== Median =====\")\n",
    "print(q8_grouped[q8_questions].median())\n",
    "\n",
    "# Print Mode for all groups \n",
    "print(\"\\n===== Mode =====\")\n",
    "for group in q8_grouped.groups:\n",
    "    print(f\"\\nGroup {group}:\")\n",
    "    for q in q8_questions:\n",
    "        mode_result = stats.mode(q8_grouped.get_group(group)[q], keepdims=True)\n",
    "        print(f\"{q}: {mode_result.mode[0]} (Frequency: {mode_result.count[0]})\")\n",
    "\n",
    "# Total\n",
    "print(\"\\n=== Total ===\")\n",
    "print(\"Group S Median:\", np.median(s_responses))\n",
    "print(\"Group U Median:\", np.median(u_responses))\n",
    "print(\"Group S Mean:\", np.mean(s_responses))\n",
    "print(\"Group U Mean:\", np.mean(u_responses))"
   ]
  },
  {
   "cell_type": "markdown",
   "id": "1b758382-eb29-479b-b4de-56eac17569b2",
   "metadata": {},
   "source": [
    "### Visualise Support Q8"
   ]
  },
  {
   "cell_type": "code",
   "execution_count": 233,
   "id": "b6b212ce-801b-467b-b361-1b261b053d64",
   "metadata": {},
   "outputs": [
    {
     "data": {
      "image/png": "[encoded data removed]",
      "text/plain": [
       "<Figure size 1200x600 with 1 Axes>"
      ]
     },
     "metadata": {},
     "output_type": "display_data"
    }
   ],
   "source": [
    "# Calculate response counts\n",
    "counts = pd.DataFrame()\n",
    "for i in range(1, 9):  # Only up to Q8_8\n",
    "    col = f'Q8_{i}'\n",
    "    counts[col] = s_q8[col].value_counts().reindex(range(1,6), fill_value=0)\n",
    "\n",
    "# Convert to percentages\n",
    "percentages = (counts / len(s_q8)) * 100\n",
    "\n",
    "# Prepare plot\n",
    "fig, ax = plt.subplots(figsize=(12, 6))\n",
    "colors = ['#d7191c', '#fdae61', '#ffffbf', '#a6d96a', '#1a9641']  # Red to green\n",
    "bottom = np.zeros(len(counts.columns))  # Use number of questions (8) instead of 10\n",
    "\n",
    "# Plot each score level\n",
    "score_labels = {\n",
    "    1: \"1 (Strongly Disagree)\",\n",
    "    2: \"2\",\n",
    "    3: \"3 (Neutral)\",\n",
    "    4: \"4\",\n",
    "    5: \"5 (Strongly Agree)\"\n",
    "}\n",
    "\n",
    "for score in range(1, 6):\n",
    "    if score in percentages.index:  # Check if score exists in data\n",
    "        ax.bar(\n",
    "            percentages.columns,\n",
    "            percentages.loc[score],\n",
    "            bottom=bottom,\n",
    "            label=score_labels[score],\n",
    "            color=colors[score-1]  # Adjust index for 0-based colors\n",
    "        )\n",
    "        bottom += percentages.loc[score]\n",
    "\n",
    "# 5. Customise plot\n",
    "plt.title('Likert Scale Response Distribution Support (Q8_1 to Q8_8)')\n",
    "plt.ylabel('Percentage of Responses (%)')\n",
    "plt.xlabel('Questions')\n",
    "plt.xticks(rotation=45)\n",
    "plt.ylim(0, 100)\n",
    "plt.legend(title='Score', bbox_to_anchor=(1.05, 1))\n",
    "plt.tight_layout()\n",
    "plt.show()"
   ]
  },
  {
   "cell_type": "markdown",
   "id": "23296509-1aa9-48df-99fd-d853a6e3ef6a",
   "metadata": {},
   "source": [
    "### Visualise Undermine Q8"
   ]
  },
  {
   "cell_type": "code",
   "execution_count": 231,
   "id": "78cdd055-0b6c-40ad-afe0-818718fcf5f4",
   "metadata": {},
   "outputs": [
    {
     "data": {
      "image/png": "[encoded data removed]",
      "text/plain": [
       "<Figure size 1200x600 with 1 Axes>"
      ]
     },
     "metadata": {},
     "output_type": "display_data"
    }
   ],
   "source": [
    "# Calculate response counts\n",
    "counts = pd.DataFrame()\n",
    "for i in range(1, 9):  # Only up to Q8_8\n",
    "    col = f'Q8_{i}'\n",
    "    counts[col] = u_q8[col].value_counts().reindex(range(1,6), fill_value=0)\n",
    "\n",
    "# Convert to percentages\n",
    "percentages = (counts / len(s_q8)) * 100\n",
    "\n",
    "# Prepare plot\n",
    "fig, ax = plt.subplots(figsize=(12, 6))\n",
    "colors = ['#d7191c', '#fdae61', '#ffffbf', '#a6d96a', '#1a9641']  # Red to green\n",
    "bottom = np.zeros(len(counts.columns))  \n",
    "\n",
    "# Plot each score level\n",
    "score_labels = {\n",
    "    1: \"1 (Strongly Disagree)\",\n",
    "    2: \"2\",\n",
    "    3: \"3 (Neutral)\",\n",
    "    4: \"4\",\n",
    "    5: \"5 (Strongly Agree)\"\n",
    "}\n",
    "\n",
    "for score in range(1, 6):\n",
    "    if score in percentages.index:  # Check if score exists in data\n",
    "        ax.bar(\n",
    "            percentages.columns,\n",
    "            percentages.loc[score],\n",
    "            bottom=bottom,\n",
    "            label=score_labels[score],\n",
    "            color=colors[score-1]  # Adjust index for 0-based colors\n",
    "        )\n",
    "        bottom += percentages.loc[score]\n",
    "\n",
    "# 5. Customise plot\n",
    "plt.title('Likert Scale Response Distribution Undermine (Q8_1 to Q8_8)')\n",
    "plt.ylabel('Percentage of Responses (%)')\n",
    "plt.xlabel('Questions')\n",
    "plt.xticks(rotation=45)\n",
    "plt.ylim(0, 100)\n",
    "plt.legend(title='Score', bbox_to_anchor=(1.05, 1))\n",
    "plt.tight_layout()\n",
    "plt.show()"
   ]
  },
  {
   "cell_type": "markdown",
   "id": "700b3f94-9d92-4110-95c6-eb629fec97e5",
   "metadata": {},
   "source": [
    "### Q8 Replacement descriptive statistics\n",
    "\n",
    "1. The AI negotiated as effectively as a human would.\n",
    "2. The AI understood my needs and preferences well.\n",
    "3. The AI proposed creative solutions that a human might not have considered.\n",
    "4. The AI’s negotiation style was more logical/objective than a human’s.\n",
    "5. I would negotiate with this AI agent in a high-stakes real-world scenario (e.g., salary negotiation).\n",
    "6. The AI was transparent about its goals and constraints. \n",
    "7. The AI’s communication style felt natural and human-like. \n",
    "8. The AI displayed empathy \n",
    "9. At any point, I forgot I was negotiating with an AI.\n",
    "10. The AI understood me well.\n"
   ]
  },
  {
   "cell_type": "code",
   "execution_count": 278,
   "id": "8b94e418-d8ec-422a-a01f-bc5d59bb583e",
   "metadata": {},
   "outputs": [
    {
     "name": "stdout",
     "output_type": "stream",
     "text": [
      "Question  Mean  Median  Mode  Mode Frequency\n",
      "    Q8_1  2.96     3.0     4               8\n",
      "    Q8_2  4.30     4.0     4              16\n",
      "    Q8_3  2.00     2.0     2              11\n",
      "    Q8_4  3.22     3.0     4               9\n",
      "    Q8_5  3.04     3.0     4               6\n",
      "    Q8_6  3.78     4.0     4              14\n",
      "    Q8_7  3.09     3.0     3               8\n",
      "    Q8_8  3.65     4.0     4              13\n",
      "    Q8_9  2.04     2.0     1               8\n",
      "   Q8_10  3.83     4.0     4              11\n",
      "\n",
      "=== Total ===\n",
      "Group R Median: 4.0\n",
      "Group R Mean: 3.1913043478260867\n"
     ]
    }
   ],
   "source": [
    "# Calculate statistics for each question (Q8_1 to Q8_10)\n",
    "results = []\n",
    "for col in [f'Q8_{i}' for i in range(1, 11)]:\n",
    "    data = r_q8[col]\n",
    "    mode_result = stats.mode(data, keepdims=True)\n",
    "    results.append({\n",
    "        'Question': col,\n",
    "        'Mean': round(data.mean(), 2),\n",
    "        'Median': data.median(),\n",
    "        'Mode': mode_result.mode[0],\n",
    "        'Mode Frequency': mode_result.count[0]\n",
    "    })\n",
    "\n",
    "# Convert to df\n",
    "stats_df = pd.DataFrame(results)\n",
    "print(stats_df.to_string(index=False))\n",
    "\n",
    "# Total\n",
    "print(\"\\n=== Total ===\")\n",
    "print(\"Group R Median:\", np.median(r_q8))\n",
    "print(\"Group R Mean:\", np.mean(r_q8))"
   ]
  },
  {
   "cell_type": "markdown",
   "id": "5d2b0e25-fd05-4a9b-b8c0-39d9080cdb8a",
   "metadata": {},
   "source": [
    "Strongest Agreement (Highest Scores)\n",
    "\n",
    "* Q8_2: Mean=4.30, Median=4, Mode=4 (16/respondents)\n",
    "\n",
    "* Q8_10: Mean=3.83, Median=4, Mode=4\n",
    "\n",
    "* Q8_6: Mean=3.78, Median=4, Mode=4\n",
    "\n",
    "Strongest Disagreement (Lowest Scores)\n",
    "\n",
    "* Q8_3: Mean=2.00, Median=2, Mode=2 (11/respondents)\n",
    "\n",
    "* Q8_9: Mean=2.04, Median=2, Mode=1\n",
    "\n",
    "* Q8_1: Mean=2.96, Median=3 (neutral)\n",
    "\n",
    "Most Polarised Questions\n",
    "\n",
    "* Q8_4: Mean=3.22 but Mode=4 (bimodal potential)\n",
    "\n",
    "* Q8_5: Mean=3.04 but Mode=4\n",
    "\n",
    "* Q8_7: Most balanced (Mean=3.09, Mode=3)"
   ]
  },
  {
   "cell_type": "code",
   "execution_count": 229,
   "id": "8434a5d9-9c8f-43fa-a3e0-c95242b55411",
   "metadata": {},
   "outputs": [
    {
     "data": {
      "image/png": "[encoded data removed]",
      "text/plain": [
       "<Figure size 1200x600 with 1 Axes>"
      ]
     },
     "metadata": {},
     "output_type": "display_data"
    }
   ],
   "source": [
    "import numpy as np\n",
    "\n",
    "# Calculate response counts for each question\n",
    "counts = pd.DataFrame()\n",
    "for i in range(1, 11):\n",
    "    col = f'Q8_{i}'\n",
    "    counts[col] = r_q8[col].value_counts().reindex([1,2,3,4,5], fill_value=0)\n",
    "\n",
    "# Convert to percentages\n",
    "percentages = counts / len(r_q8) * 100\n",
    "\n",
    "# Plot\n",
    "fig, ax = plt.subplots(figsize=(12, 6))\n",
    "colors = ['#d7191c', '#fdae61', '#ffffbf', '#a6d96a', '#1a9641']  # Red to green\n",
    "bottom = np.zeros(10)\n",
    "\n",
    "for i, score in enumerate([1, 2, 3, 4, 5]):\n",
    "    ax.bar(\n",
    "        percentages.columns, \n",
    "        percentages.loc[score], \n",
    "        bottom=bottom,\n",
    "        label=f'{score} (Strongly Disagree)' if score == 1 else \n",
    "              f'{score} (Strongly Agree)' if score == 5 else str(score),\n",
    "        color=colors[i]\n",
    "    )\n",
    "    bottom += percentages.loc[score]\n",
    "\n",
    "plt.title('Likert Scale Response Distribution')\n",
    "plt.ylabel('Percentage of Responses')\n",
    "plt.xticks(rotation=45)\n",
    "plt.legend(title='Score', bbox_to_anchor=(1.05, 1))\n",
    "plt.tight_layout()\n",
    "plt.show()"
   ]
  },
  {
   "cell_type": "code",
   "execution_count": 161,
   "id": "13f4ac8d-1aa9-47e0-ba17-e029f1ae2082",
   "metadata": {},
   "outputs": [
    {
     "data": {
      "image/png": "[encoded data removed]",
      "text/plain": [
       "<Figure size 1000x600 with 1 Axes>"
      ]
     },
     "metadata": {},
     "output_type": "display_data"
    }
   ],
   "source": [
    "# Calculate mean scores\n",
    "means = r_q8[[f'Q8_{i}' for i in range(1,11)]].mean().sort_values()\n",
    "\n",
    "# Plot\n",
    "plt.figure(figsize=(10, 6))\n",
    "colors = ['#d7191c' if x < 3 else '#fdae61' if x < 4 else '#1a9641' for x in means]\n",
    "means.plot(kind='barh', color=colors)\n",
    "plt.axvline(x=3, color='gray', linestyle='--')\n",
    "plt.title('Mean Likert Scores (1=Strongly Disagree, 5=Strongly Agree)')\n",
    "plt.xlabel('Mean Score')\n",
    "plt.xlim(1, 5)\n",
    "plt.grid(axis='x', alpha=0.3)\n",
    "plt.show()"
   ]
  }
 ],
 "metadata": {
  "kernelspec": {
   "display_name": "Python 3 (ipykernel)",
   "language": "python",
   "name": "python3"
  },
  "language_info": {
   "codemirror_mode": {
    "name": "ipython",
    "version": 3
   },
   "file_extension": ".py",
   "mimetype": "text/x-python",
   "name": "python",
   "nbconvert_exporter": "python",
   "pygments_lexer": "ipython3",
   "version": "3.12.4"
  }
 },
 "nbformat": 4,
 "nbformat_minor": 5
}
